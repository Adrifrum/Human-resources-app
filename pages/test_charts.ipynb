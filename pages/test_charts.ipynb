{
 "cells": [
  {
   "cell_type": "code",
   "execution_count": 8,
   "id": "c1b7c54e",
   "metadata": {},
   "outputs": [
    {
     "name": "stdout",
     "output_type": "stream",
     "text": [
      "[3, 4, 5, 7, 3, 2, 10, 6, 0, 0, 0, 0, 0, 0, 0, 0]\n"
     ]
    },
    {
     "data": {
      "application/vnd.plotly.v1+json": {
       "config": {
        "plotlyServerURL": "https://plot.ly"
       },
       "data": [
        {
         "marker": {
          "color": "green"
         },
         "name": "Nouveaux employés",
         "text": [
          "15",
          "9",
          "6",
          "3",
          "18",
          "24",
          "21",
          "15",
          "18",
          "15",
          "12",
          "12",
          "9",
          "12",
          "15",
          "9"
         ],
         "textposition": "inside",
         "type": "bar",
         "x": [
          "Executive Directorate",
          "Directorate for Communications",
          "Directorate for Legal Affairs",
          "Council and Executive Committee Secretariat",
          "Development Co-operation Directorate",
          "Directorate for Education and Skills",
          "Directorate for Employment, Labour and Social Affairs",
          "Directorate for Financial and Enterprise Affairs",
          "Directorate for Public Governance",
          "Directorate for Science, Technology and Innovation",
          "Economics Department",
          "Environment Directorate",
          "Global Relations and Co-operation Directorate",
          "Statistics and Data Directorate",
          "Trade and Agriculture Directorate",
          "OECD Development Centre"
         ],
         "y": [
          15,
          9,
          6,
          3,
          18,
          24,
          21,
          15,
          18,
          15,
          12,
          12,
          9,
          12,
          15,
          9
         ]
        },
        {
         "marker": {
          "color": "red"
         },
         "name": "Démissions",
         "text": [
          "12",
          "6",
          "3",
          "3",
          "9",
          "18",
          "15",
          "12",
          "9",
          "12",
          "6",
          "9",
          "6",
          "9",
          "12",
          "6"
         ],
         "textposition": "inside",
         "type": "bar",
         "x": [
          "Executive Directorate",
          "Directorate for Communications",
          "Directorate for Legal Affairs",
          "Council and Executive Committee Secretariat",
          "Development Co-operation Directorate",
          "Directorate for Education and Skills",
          "Directorate for Employment, Labour and Social Affairs",
          "Directorate for Financial and Enterprise Affairs",
          "Directorate for Public Governance",
          "Directorate for Science, Technology and Innovation",
          "Economics Department",
          "Environment Directorate",
          "Global Relations and Co-operation Directorate",
          "Statistics and Data Directorate",
          "Trade and Agriculture Directorate",
          "OECD Development Centre"
         ],
         "y": [
          -12,
          -6,
          -3,
          -3,
          -9,
          -18,
          -15,
          -12,
          -9,
          -12,
          -6,
          -9,
          -6,
          -9,
          -12,
          -6
         ]
        }
       ],
       "layout": {
        "annotations": [
         {
          "align": "center",
          "bgcolor": "lightblue",
          "bordercolor": "gray",
          "borderpad": 4,
          "borderwidth": 1,
          "font": {
           "color": "black",
           "size": 12
          },
          "showarrow": false,
          "text": "Vacants: 3",
          "x": "Executive Directorate",
          "y": 20
         },
         {
          "align": "center",
          "bgcolor": "lightblue",
          "bordercolor": "gray",
          "borderpad": 4,
          "borderwidth": 1,
          "font": {
           "color": "black",
           "size": 12
          },
          "showarrow": false,
          "text": "Vacants: 4",
          "x": "Directorate for Communications",
          "y": 14
         },
         {
          "align": "center",
          "bgcolor": "lightblue",
          "bordercolor": "gray",
          "borderpad": 4,
          "borderwidth": 1,
          "font": {
           "color": "black",
           "size": 12
          },
          "showarrow": false,
          "text": "Vacants: 5",
          "x": "Directorate for Legal Affairs",
          "y": 11
         },
         {
          "align": "center",
          "bgcolor": "lightblue",
          "bordercolor": "gray",
          "borderpad": 4,
          "borderwidth": 1,
          "font": {
           "color": "black",
           "size": 12
          },
          "showarrow": false,
          "text": "Vacants: 7",
          "x": "Council and Executive Committee Secretariat",
          "y": 8
         },
         {
          "align": "center",
          "bgcolor": "lightblue",
          "bordercolor": "gray",
          "borderpad": 4,
          "borderwidth": 1,
          "font": {
           "color": "black",
           "size": 12
          },
          "showarrow": false,
          "text": "Vacants: 3",
          "x": "Development Co-operation Directorate",
          "y": 23
         },
         {
          "align": "center",
          "bgcolor": "lightblue",
          "bordercolor": "gray",
          "borderpad": 4,
          "borderwidth": 1,
          "font": {
           "color": "black",
           "size": 12
          },
          "showarrow": false,
          "text": "Vacants: 2",
          "x": "Directorate for Education and Skills",
          "y": 29
         },
         {
          "align": "center",
          "bgcolor": "lightblue",
          "bordercolor": "gray",
          "borderpad": 4,
          "borderwidth": 1,
          "font": {
           "color": "black",
           "size": 12
          },
          "showarrow": false,
          "text": "Vacants: 10",
          "x": "Directorate for Employment, Labour and Social Affairs",
          "y": 26
         },
         {
          "align": "center",
          "bgcolor": "lightblue",
          "bordercolor": "gray",
          "borderpad": 4,
          "borderwidth": 1,
          "font": {
           "color": "black",
           "size": 12
          },
          "showarrow": false,
          "text": "Vacants: 6",
          "x": "Directorate for Financial and Enterprise Affairs",
          "y": 20
         },
         {
          "align": "center",
          "bgcolor": "lightblue",
          "bordercolor": "gray",
          "borderpad": 4,
          "borderwidth": 1,
          "font": {
           "color": "black",
           "size": 12
          },
          "showarrow": false,
          "text": "Vacants: 0",
          "x": "Directorate for Public Governance",
          "y": 23
         },
         {
          "align": "center",
          "bgcolor": "lightblue",
          "bordercolor": "gray",
          "borderpad": 4,
          "borderwidth": 1,
          "font": {
           "color": "black",
           "size": 12
          },
          "showarrow": false,
          "text": "Vacants: 0",
          "x": "Directorate for Science, Technology and Innovation",
          "y": 20
         },
         {
          "align": "center",
          "bgcolor": "lightblue",
          "bordercolor": "gray",
          "borderpad": 4,
          "borderwidth": 1,
          "font": {
           "color": "black",
           "size": 12
          },
          "showarrow": false,
          "text": "Vacants: 0",
          "x": "Economics Department",
          "y": 17
         },
         {
          "align": "center",
          "bgcolor": "lightblue",
          "bordercolor": "gray",
          "borderpad": 4,
          "borderwidth": 1,
          "font": {
           "color": "black",
           "size": 12
          },
          "showarrow": false,
          "text": "Vacants: 0",
          "x": "Environment Directorate",
          "y": 17
         },
         {
          "align": "center",
          "bgcolor": "lightblue",
          "bordercolor": "gray",
          "borderpad": 4,
          "borderwidth": 1,
          "font": {
           "color": "black",
           "size": 12
          },
          "showarrow": false,
          "text": "Vacants: 0",
          "x": "Global Relations and Co-operation Directorate",
          "y": 14
         },
         {
          "align": "center",
          "bgcolor": "lightblue",
          "bordercolor": "gray",
          "borderpad": 4,
          "borderwidth": 1,
          "font": {
           "color": "black",
           "size": 12
          },
          "showarrow": false,
          "text": "Vacants: 0",
          "x": "Statistics and Data Directorate",
          "y": 17
         },
         {
          "align": "center",
          "bgcolor": "lightblue",
          "bordercolor": "gray",
          "borderpad": 4,
          "borderwidth": 1,
          "font": {
           "color": "black",
           "size": 12
          },
          "showarrow": false,
          "text": "Vacants: 0",
          "x": "Trade and Agriculture Directorate",
          "y": 20
         },
         {
          "align": "center",
          "bgcolor": "lightblue",
          "bordercolor": "gray",
          "borderpad": 4,
          "borderwidth": 1,
          "font": {
           "color": "black",
           "size": 12
          },
          "showarrow": false,
          "text": "Vacants: 0",
          "x": "OECD Development Centre",
          "y": 14
         }
        ],
        "barmode": "relative",
        "height": 700,
        "plot_bgcolor": "white",
        "template": {
         "data": {
          "bar": [
           {
            "error_x": {
             "color": "#2a3f5f"
            },
            "error_y": {
             "color": "#2a3f5f"
            },
            "marker": {
             "line": {
              "color": "#E5ECF6",
              "width": 0.5
             },
             "pattern": {
              "fillmode": "overlay",
              "size": 10,
              "solidity": 0.2
             }
            },
            "type": "bar"
           }
          ],
          "barpolar": [
           {
            "marker": {
             "line": {
              "color": "#E5ECF6",
              "width": 0.5
             },
             "pattern": {
              "fillmode": "overlay",
              "size": 10,
              "solidity": 0.2
             }
            },
            "type": "barpolar"
           }
          ],
          "carpet": [
           {
            "aaxis": {
             "endlinecolor": "#2a3f5f",
             "gridcolor": "white",
             "linecolor": "white",
             "minorgridcolor": "white",
             "startlinecolor": "#2a3f5f"
            },
            "baxis": {
             "endlinecolor": "#2a3f5f",
             "gridcolor": "white",
             "linecolor": "white",
             "minorgridcolor": "white",
             "startlinecolor": "#2a3f5f"
            },
            "type": "carpet"
           }
          ],
          "choropleth": [
           {
            "colorbar": {
             "outlinewidth": 0,
             "ticks": ""
            },
            "type": "choropleth"
           }
          ],
          "contour": [
           {
            "colorbar": {
             "outlinewidth": 0,
             "ticks": ""
            },
            "colorscale": [
             [
              0,
              "#0d0887"
             ],
             [
              0.1111111111111111,
              "#46039f"
             ],
             [
              0.2222222222222222,
              "#7201a8"
             ],
             [
              0.3333333333333333,
              "#9c179e"
             ],
             [
              0.4444444444444444,
              "#bd3786"
             ],
             [
              0.5555555555555556,
              "#d8576b"
             ],
             [
              0.6666666666666666,
              "#ed7953"
             ],
             [
              0.7777777777777778,
              "#fb9f3a"
             ],
             [
              0.8888888888888888,
              "#fdca26"
             ],
             [
              1,
              "#f0f921"
             ]
            ],
            "type": "contour"
           }
          ],
          "contourcarpet": [
           {
            "colorbar": {
             "outlinewidth": 0,
             "ticks": ""
            },
            "type": "contourcarpet"
           }
          ],
          "heatmap": [
           {
            "colorbar": {
             "outlinewidth": 0,
             "ticks": ""
            },
            "colorscale": [
             [
              0,
              "#0d0887"
             ],
             [
              0.1111111111111111,
              "#46039f"
             ],
             [
              0.2222222222222222,
              "#7201a8"
             ],
             [
              0.3333333333333333,
              "#9c179e"
             ],
             [
              0.4444444444444444,
              "#bd3786"
             ],
             [
              0.5555555555555556,
              "#d8576b"
             ],
             [
              0.6666666666666666,
              "#ed7953"
             ],
             [
              0.7777777777777778,
              "#fb9f3a"
             ],
             [
              0.8888888888888888,
              "#fdca26"
             ],
             [
              1,
              "#f0f921"
             ]
            ],
            "type": "heatmap"
           }
          ],
          "heatmapgl": [
           {
            "colorbar": {
             "outlinewidth": 0,
             "ticks": ""
            },
            "colorscale": [
             [
              0,
              "#0d0887"
             ],
             [
              0.1111111111111111,
              "#46039f"
             ],
             [
              0.2222222222222222,
              "#7201a8"
             ],
             [
              0.3333333333333333,
              "#9c179e"
             ],
             [
              0.4444444444444444,
              "#bd3786"
             ],
             [
              0.5555555555555556,
              "#d8576b"
             ],
             [
              0.6666666666666666,
              "#ed7953"
             ],
             [
              0.7777777777777778,
              "#fb9f3a"
             ],
             [
              0.8888888888888888,
              "#fdca26"
             ],
             [
              1,
              "#f0f921"
             ]
            ],
            "type": "heatmapgl"
           }
          ],
          "histogram": [
           {
            "marker": {
             "pattern": {
              "fillmode": "overlay",
              "size": 10,
              "solidity": 0.2
             }
            },
            "type": "histogram"
           }
          ],
          "histogram2d": [
           {
            "colorbar": {
             "outlinewidth": 0,
             "ticks": ""
            },
            "colorscale": [
             [
              0,
              "#0d0887"
             ],
             [
              0.1111111111111111,
              "#46039f"
             ],
             [
              0.2222222222222222,
              "#7201a8"
             ],
             [
              0.3333333333333333,
              "#9c179e"
             ],
             [
              0.4444444444444444,
              "#bd3786"
             ],
             [
              0.5555555555555556,
              "#d8576b"
             ],
             [
              0.6666666666666666,
              "#ed7953"
             ],
             [
              0.7777777777777778,
              "#fb9f3a"
             ],
             [
              0.8888888888888888,
              "#fdca26"
             ],
             [
              1,
              "#f0f921"
             ]
            ],
            "type": "histogram2d"
           }
          ],
          "histogram2dcontour": [
           {
            "colorbar": {
             "outlinewidth": 0,
             "ticks": ""
            },
            "colorscale": [
             [
              0,
              "#0d0887"
             ],
             [
              0.1111111111111111,
              "#46039f"
             ],
             [
              0.2222222222222222,
              "#7201a8"
             ],
             [
              0.3333333333333333,
              "#9c179e"
             ],
             [
              0.4444444444444444,
              "#bd3786"
             ],
             [
              0.5555555555555556,
              "#d8576b"
             ],
             [
              0.6666666666666666,
              "#ed7953"
             ],
             [
              0.7777777777777778,
              "#fb9f3a"
             ],
             [
              0.8888888888888888,
              "#fdca26"
             ],
             [
              1,
              "#f0f921"
             ]
            ],
            "type": "histogram2dcontour"
           }
          ],
          "mesh3d": [
           {
            "colorbar": {
             "outlinewidth": 0,
             "ticks": ""
            },
            "type": "mesh3d"
           }
          ],
          "parcoords": [
           {
            "line": {
             "colorbar": {
              "outlinewidth": 0,
              "ticks": ""
             }
            },
            "type": "parcoords"
           }
          ],
          "pie": [
           {
            "automargin": true,
            "type": "pie"
           }
          ],
          "scatter": [
           {
            "fillpattern": {
             "fillmode": "overlay",
             "size": 10,
             "solidity": 0.2
            },
            "type": "scatter"
           }
          ],
          "scatter3d": [
           {
            "line": {
             "colorbar": {
              "outlinewidth": 0,
              "ticks": ""
             }
            },
            "marker": {
             "colorbar": {
              "outlinewidth": 0,
              "ticks": ""
             }
            },
            "type": "scatter3d"
           }
          ],
          "scattercarpet": [
           {
            "marker": {
             "colorbar": {
              "outlinewidth": 0,
              "ticks": ""
             }
            },
            "type": "scattercarpet"
           }
          ],
          "scattergeo": [
           {
            "marker": {
             "colorbar": {
              "outlinewidth": 0,
              "ticks": ""
             }
            },
            "type": "scattergeo"
           }
          ],
          "scattergl": [
           {
            "marker": {
             "colorbar": {
              "outlinewidth": 0,
              "ticks": ""
             }
            },
            "type": "scattergl"
           }
          ],
          "scattermapbox": [
           {
            "marker": {
             "colorbar": {
              "outlinewidth": 0,
              "ticks": ""
             }
            },
            "type": "scattermapbox"
           }
          ],
          "scatterpolar": [
           {
            "marker": {
             "colorbar": {
              "outlinewidth": 0,
              "ticks": ""
             }
            },
            "type": "scatterpolar"
           }
          ],
          "scatterpolargl": [
           {
            "marker": {
             "colorbar": {
              "outlinewidth": 0,
              "ticks": ""
             }
            },
            "type": "scatterpolargl"
           }
          ],
          "scatterternary": [
           {
            "marker": {
             "colorbar": {
              "outlinewidth": 0,
              "ticks": ""
             }
            },
            "type": "scatterternary"
           }
          ],
          "surface": [
           {
            "colorbar": {
             "outlinewidth": 0,
             "ticks": ""
            },
            "colorscale": [
             [
              0,
              "#0d0887"
             ],
             [
              0.1111111111111111,
              "#46039f"
             ],
             [
              0.2222222222222222,
              "#7201a8"
             ],
             [
              0.3333333333333333,
              "#9c179e"
             ],
             [
              0.4444444444444444,
              "#bd3786"
             ],
             [
              0.5555555555555556,
              "#d8576b"
             ],
             [
              0.6666666666666666,
              "#ed7953"
             ],
             [
              0.7777777777777778,
              "#fb9f3a"
             ],
             [
              0.8888888888888888,
              "#fdca26"
             ],
             [
              1,
              "#f0f921"
             ]
            ],
            "type": "surface"
           }
          ],
          "table": [
           {
            "cells": {
             "fill": {
              "color": "#EBF0F8"
             },
             "line": {
              "color": "white"
             }
            },
            "header": {
             "fill": {
              "color": "#C8D4E3"
             },
             "line": {
              "color": "white"
             }
            },
            "type": "table"
           }
          ]
         },
         "layout": {
          "annotationdefaults": {
           "arrowcolor": "#2a3f5f",
           "arrowhead": 0,
           "arrowwidth": 1
          },
          "autotypenumbers": "strict",
          "coloraxis": {
           "colorbar": {
            "outlinewidth": 0,
            "ticks": ""
           }
          },
          "colorscale": {
           "diverging": [
            [
             0,
             "#8e0152"
            ],
            [
             0.1,
             "#c51b7d"
            ],
            [
             0.2,
             "#de77ae"
            ],
            [
             0.3,
             "#f1b6da"
            ],
            [
             0.4,
             "#fde0ef"
            ],
            [
             0.5,
             "#f7f7f7"
            ],
            [
             0.6,
             "#e6f5d0"
            ],
            [
             0.7,
             "#b8e186"
            ],
            [
             0.8,
             "#7fbc41"
            ],
            [
             0.9,
             "#4d9221"
            ],
            [
             1,
             "#276419"
            ]
           ],
           "sequential": [
            [
             0,
             "#0d0887"
            ],
            [
             0.1111111111111111,
             "#46039f"
            ],
            [
             0.2222222222222222,
             "#7201a8"
            ],
            [
             0.3333333333333333,
             "#9c179e"
            ],
            [
             0.4444444444444444,
             "#bd3786"
            ],
            [
             0.5555555555555556,
             "#d8576b"
            ],
            [
             0.6666666666666666,
             "#ed7953"
            ],
            [
             0.7777777777777778,
             "#fb9f3a"
            ],
            [
             0.8888888888888888,
             "#fdca26"
            ],
            [
             1,
             "#f0f921"
            ]
           ],
           "sequentialminus": [
            [
             0,
             "#0d0887"
            ],
            [
             0.1111111111111111,
             "#46039f"
            ],
            [
             0.2222222222222222,
             "#7201a8"
            ],
            [
             0.3333333333333333,
             "#9c179e"
            ],
            [
             0.4444444444444444,
             "#bd3786"
            ],
            [
             0.5555555555555556,
             "#d8576b"
            ],
            [
             0.6666666666666666,
             "#ed7953"
            ],
            [
             0.7777777777777778,
             "#fb9f3a"
            ],
            [
             0.8888888888888888,
             "#fdca26"
            ],
            [
             1,
             "#f0f921"
            ]
           ]
          },
          "colorway": [
           "#636efa",
           "#EF553B",
           "#00cc96",
           "#ab63fa",
           "#FFA15A",
           "#19d3f3",
           "#FF6692",
           "#B6E880",
           "#FF97FF",
           "#FECB52"
          ],
          "font": {
           "color": "#2a3f5f"
          },
          "geo": {
           "bgcolor": "white",
           "lakecolor": "white",
           "landcolor": "#E5ECF6",
           "showlakes": true,
           "showland": true,
           "subunitcolor": "white"
          },
          "hoverlabel": {
           "align": "left"
          },
          "hovermode": "closest",
          "mapbox": {
           "style": "light"
          },
          "paper_bgcolor": "white",
          "plot_bgcolor": "#E5ECF6",
          "polar": {
           "angularaxis": {
            "gridcolor": "white",
            "linecolor": "white",
            "ticks": ""
           },
           "bgcolor": "#E5ECF6",
           "radialaxis": {
            "gridcolor": "white",
            "linecolor": "white",
            "ticks": ""
           }
          },
          "scene": {
           "xaxis": {
            "backgroundcolor": "#E5ECF6",
            "gridcolor": "white",
            "gridwidth": 2,
            "linecolor": "white",
            "showbackground": true,
            "ticks": "",
            "zerolinecolor": "white"
           },
           "yaxis": {
            "backgroundcolor": "#E5ECF6",
            "gridcolor": "white",
            "gridwidth": 2,
            "linecolor": "white",
            "showbackground": true,
            "ticks": "",
            "zerolinecolor": "white"
           },
           "zaxis": {
            "backgroundcolor": "#E5ECF6",
            "gridcolor": "white",
            "gridwidth": 2,
            "linecolor": "white",
            "showbackground": true,
            "ticks": "",
            "zerolinecolor": "white"
           }
          },
          "shapedefaults": {
           "line": {
            "color": "#2a3f5f"
           }
          },
          "ternary": {
           "aaxis": {
            "gridcolor": "white",
            "linecolor": "white",
            "ticks": ""
           },
           "baxis": {
            "gridcolor": "white",
            "linecolor": "white",
            "ticks": ""
           },
           "bgcolor": "#E5ECF6",
           "caxis": {
            "gridcolor": "white",
            "linecolor": "white",
            "ticks": ""
           }
          },
          "title": {
           "x": 0.05
          },
          "xaxis": {
           "automargin": true,
           "gridcolor": "white",
           "linecolor": "white",
           "ticks": "",
           "title": {
            "standoff": 15
           },
           "zerolinecolor": "white",
           "zerolinewidth": 2
          },
          "yaxis": {
           "automargin": true,
           "gridcolor": "white",
           "linecolor": "white",
           "ticks": "",
           "title": {
            "standoff": 15
           },
           "zerolinecolor": "white",
           "zerolinewidth": 2
          }
         }
        },
        "title": {
         "text": "Attrition des employés par direction à l’OCDE (avec postes vacants)"
        },
        "xaxis": {
         "tickangle": -45
        },
        "yaxis": {
         "title": {
          "text": "Nombre d’employés"
         }
        }
       }
      }
     },
     "metadata": {},
     "output_type": "display_data"
    }
   ],
   "source": [
    "import plotly.graph_objects as go\n",
    "\n",
    "# Directions Corporate\n",
    "corporate_departments = [\n",
    "    \"Executive Directorate\",\n",
    "    \"Directorate for Communications\",\n",
    "    \"Directorate for Legal Affairs\",\n",
    "    \"Council and Executive Committee Secretariat\"\n",
    "]\n",
    "corporate_joiners = [5*3, 3*3, 2*3, 1*3]\n",
    "corporate_resignations = [-4*3, -2*3, -1*3, -1*3]\n",
    "\n",
    "# Directions Policy\n",
    "policy_departments = [\n",
    "    \"Development Co-operation Directorate\",\n",
    "    \"Directorate for Education and Skills\",\n",
    "    \"Directorate for Employment, Labour and Social Affairs\",\n",
    "    \"Directorate for Financial and Enterprise Affairs\",\n",
    "    \"Directorate for Public Governance\",\n",
    "    \"Directorate for Science, Technology and Innovation\",\n",
    "    \"Economics Department\",\n",
    "    \"Environment Directorate\",\n",
    "    \"Global Relations and Co-operation Directorate\",\n",
    "    \"Statistics and Data Directorate\",\n",
    "    \"Trade and Agriculture Directorate\",\n",
    "    \"OECD Development Centre\"\n",
    "]\n",
    "policy_joiners = [6*3, 8*3, 7*3, 5*3, 6*3, 5*3, 4*3, 4*3, 3*3, 4*3, 5*3, 3*3]\n",
    "policy_resignations = [-3*3, -6*3, -5*3, -4*3, -3*3, -4*3, -2*3, -3*3, -2*3, -3*3, -4*3, -2*3]\n",
    "\n",
    "# Fusion\n",
    "departments = corporate_departments + policy_departments\n",
    "joiners = corporate_joiners + policy_joiners\n",
    "resignations = corporate_resignations + policy_resignations\n",
    "\n",
    "# Calcul des postes vacants\n",
    "vacancies = [3, 4, 5, 7, 3, 2, 10, 6, 0, 0, 0, 0, 0, 0, 0, 0]\n",
    "print(vacancies)\n",
    "\n",
    "fig = go.Figure()\n",
    "\n",
    "# Barres pour les recrutements\n",
    "fig.add_trace(go.Bar(\n",
    "    x=departments,\n",
    "    y=joiners,\n",
    "    name='Nouveaux employés',\n",
    "    marker_color='green',\n",
    "    text=joiners,\n",
    "    textposition='inside'\n",
    "))\n",
    "\n",
    "# Barres pour les démissions\n",
    "fig.add_trace(go.Bar(\n",
    "    x=departments,\n",
    "    y=resignations,\n",
    "    name='Démissions',\n",
    "    marker_color='red',\n",
    "    text=[abs(r) for r in resignations],\n",
    "    textposition='inside'\n",
    "))\n",
    "\n",
    "# Ajouter les boîtes de texte \"postes vacants\" au-dessus des barres\n",
    "for i, dept in enumerate(departments):\n",
    "    y_max = max(joiners[i], abs(resignations[i]))\n",
    "    fig.add_annotation(\n",
    "        x=dept,\n",
    "        y=y_max + 5,  # Position légèrement au-dessus du plus haut\n",
    "        text=f\"Vacants: {vacancies[i]}\",\n",
    "        showarrow=False,\n",
    "        font=dict(color=\"black\", size=12),\n",
    "        align=\"center\",\n",
    "        bgcolor=\"lightblue\",\n",
    "        bordercolor=\"gray\",\n",
    "        borderwidth=1,\n",
    "        borderpad=4\n",
    "    )\n",
    "\n",
    "fig.update_layout(\n",
    "    title='Attrition des employés par direction à l’OCDE (avec postes vacants)',\n",
    "    yaxis_title='Nombre d’employés',\n",
    "    barmode='relative',\n",
    "    plot_bgcolor='white',\n",
    "    xaxis_tickangle=-45,\n",
    "    height=700\n",
    ")\n",
    "\n",
    "fig.show()\n"
   ]
  }
 ],
 "metadata": {
  "kernelspec": {
   "display_name": "env",
   "language": "python",
   "name": "python3"
  },
  "language_info": {
   "codemirror_mode": {
    "name": "ipython",
    "version": 3
   },
   "file_extension": ".py",
   "mimetype": "text/x-python",
   "name": "python",
   "nbconvert_exporter": "python",
   "pygments_lexer": "ipython3",
   "version": "3.10.12"
  }
 },
 "nbformat": 4,
 "nbformat_minor": 5
}
